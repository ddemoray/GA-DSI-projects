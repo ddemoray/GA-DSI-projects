{
 "cells": [
  {
   "cell_type": "markdown",
   "metadata": {},
   "source": [
    "Project 5 brings us our first large data set! Eager to waste no time I fell victim to my old habits and wanted to explore the dataset in excel, unfortunately given the large size was not able to open the file. The most difficult task initially was slicing the data frame in order to properly index it. After tackling this it was fairly intuitive working with the data, in fact much moreso than Excel given how large the dataframe is. After consulting the data dictionary- Pandas allowed me to effortlessly define variables that were important to the question posed in the prompt. I worked through the data frame\n",
    "\n",
    "Column by column checking for null values and re casting variables as integers and assigning dummy variables. Working with categorical data is new to me and it was wonderful having the built in dummy feature. I initially brought in more variables than explicitly outlined in the prompt and then dropped these for fear overfitting data when in the modeling stage. Fortunately all of this data was a relatively small number of instances so I don't believe this will have a large negative impact on my analysis. It's worth noting that despite being initially a very large csv file - this data is very clean. I have created multiple histograms \n",
    "\n",
    "I have yet to normalize data - but from my initial findings it's hard to see any standard linear correlation. The data seems to be clustered together with relatively few outliers. Next steps are normalizing data and then plotting paid and defaulted loans in order to move forward with map classification model.\n",
    "\n",
    "Some red flags: there are far fewer defaulted loans when compared to fully paid loans - this will have an impact on the model."
   ]
  },
  {
   "cell_type": "code",
   "execution_count": null,
   "metadata": {
    "collapsed": true
   },
   "outputs": [],
   "source": []
  }
 ],
 "metadata": {
  "anaconda-cloud": {},
  "kernelspec": {
   "display_name": "Python [conda root]",
   "language": "python",
   "name": "conda-root-py"
  },
  "language_info": {
   "codemirror_mode": {
    "name": "ipython",
    "version": 2
   },
   "file_extension": ".py",
   "mimetype": "text/x-python",
   "name": "python",
   "nbconvert_exporter": "python",
   "pygments_lexer": "ipython2",
   "version": "2.7.12"
  }
 },
 "nbformat": 4,
 "nbformat_minor": 1
}
