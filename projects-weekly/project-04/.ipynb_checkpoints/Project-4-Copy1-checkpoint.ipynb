{
 "cells": [
  {
   "cell_type": "markdown",
   "metadata": {},
   "source": [
    "## Project 4 - Bayesian Calculations\n",
    "\n",
    "**Exercise 1:**\n",
    "\n",
    "- Create a Bayesian Regression class that takes a log posteriori, data points, number of walkers, etc as initilization and provides all required methods and attributes required for Bayesian Regression Problems. \n",
    "- The class should also be able to provide an integration method that allows you to integrate with respect to the posteriori distribution. \n",
    "- Additionally, the class should allow to calculate all probabilities including the predictive distribution. \n",
    "- Also include methods for visualization such as corner maps. \n",
    "- Even though this class is part of a project you should consider it as your first self build Data Science tool. "
   ]
  },
  {
   "cell_type": "code",
   "execution_count": null,
   "metadata": {
    "collapsed": true
   },
   "outputs": [],
   "source": [
    "# class BayesRegression:\n",
    "    \n",
    "#     def __init__(self, post, data, walkers):\n",
    "        "
   ]
  },
  {
   "cell_type": "markdown",
   "metadata": {},
   "source": [
    "**Exercise 2:**\n",
    "\n",
    "The data below is in the form (x,t) and represents the height x of the tide at a specific location over the course of a day. Time is represented by the variable t. Build a Bayesian Regression Model using your class from Exercise 1. Show us what your new class can do!\n",
    "* Start by describing the data. What type of functional behavior do you anticipate? \n",
    "* Use your model to make a prediction about the future. \n",
    "* Create a corner plot.\n",
    "* What can you say about the variance of your model parameters and what does that mean?\n",
    "\n",
    "*Bonus!!* \n",
    "* What is the probability that the tide is higher than 15 during a day.\n",
    "* What is the probability that the tide is lower than 5 during a day."
   ]
  },
  {
   "cell_type": "code",
   "execution_count": 1,
   "metadata": {
    "collapsed": false
   },
   "outputs": [],
   "source": [
    "data = [(12.676817787115283, 4.840968499185621),\n",
    " (3.0635215093963133, 3.14922059397124),\n",
    " (8.9357879700357667, 5.431164887988198),\n",
    " (13.150389074317657, 0.2734372074578954),\n",
    " (12.925121692101902, 5.02106046462978),\n",
    " (10.269853674176913, 3.7776881451798454),\n",
    " (8.5618490817719284, 1.7531496843623315),\n",
    " (11.652310665546354, 0.13740741237008774),\n",
    " (15.785676964359141, 0.1589401373556326),\n",
    " (10.709910995988764, 1.405806821770987),\n",
    " (7.1341191045745171, 5.791539306670335),\n",
    " (21.883583042704814, 5.375575646320319),\n",
    " (9.3509495831601566, 1.5283167578387404),\n",
    " (8.9421204746670746, 1.2943521169392636),\n",
    " (7.9107785943448947, 2.41326855106268),\n",
    " (6.6761875778137583, 5.605375440538395),\n",
    " (11.650996974527924, 4.935997586415922),\n",
    " (17.290020321649969, 5.274010438371379),\n",
    " (13.06634684581484, 0.2347909715055829),\n",
    " (9.2602800850011402, 1.9716673533870746),\n",
    " (13.919837953941261, 5.528598466510076),\n",
    " (7.9171739378319606, 5.84750784658713),\n",
    " (12.864499776009934, 0.8278490177929644),\n",
    " (10.571617689971236, 2.36723797633488),\n",
    " (15.697626403745566, 6.217581078023053),\n",
    " (6.9542139194365262, 3.1860455750181425),\n",
    " (13.120156492593505, 4.864593354788696),\n",
    " (11.454973850882114, 1.8798442605946453),\n",
    " (10.614021877252608, 0.8044135861997307),\n",
    " (7.568300166951679, 2.673290291826998),\n",
    " (10.183500038106194, 1.309623551484031),\n",
    " (13.503996786942462, 0.04020573153381622),\n",
    " (14.908454853041013, 5.049774593191907),\n",
    " (16.502324161297746, 5.406433813862234),\n",
    " (7.7831240000772652, 5.45198929005635),\n",
    " (2.7144705188261025, 4.10012261788714),\n",
    " (6.3268913726889187, 5.6611505113173575),\n",
    " (9.343465517423013, 3.2971190116581632),\n",
    " (10.029091959312348, 0.5986208146884879),\n",
    " (12.078957723820951, 0.3853462849024228),\n",
    " (12.542705834818268, 1.5820979005652125),\n",
    " (9.8489274946698337, 2.6735253975153426),\n",
    " (11.349497927312719, 1.1055955472925354),\n",
    " (11.06556939865615, 2.5611692213120962),\n",
    " (11.242786106546351, 0.6500902431293415),\n",
    " (7.5720317139333542, 3.4428084142928075),\n",
    " (10.19301456907124, 2.427329872753534),\n",
    " (11.688185995125892, 0.14941531339444405),\n",
    " (13.321217017544326, 4.226862591173392),\n",
    " (9.2226853401109601, 2.3990630763955374),\n",
    " (7.0737562512314449, 0.8821159241146929),\n",
    " (5.5158907409668556, 2.287657630597947),\n",
    " (5.2424711689478309, 3.4418528431658317),\n",
    " (11.826235109408199, 3.3038133315910185),\n",
    " (6.2478202112864949, 3.7493402648869223),\n",
    " (7.2776616254733053, 2.666108760536187),\n",
    " (14.728663233221567, 5.923646379789856),\n",
    " (11.088563226667782, 2.974838497958867),\n",
    " (11.458847468046265, 1.2931851555147837),\n",
    " (4.0709653063610656, 2.4390760560779694),\n",
    " (15.530850378396899, 0.7685325485891545),\n",
    " (11.615168564683962, 2.7271570577326223),\n",
    " (10.632288760396049, 5.37570954124343),\n",
    " (6.9102179020649883, 1.9530381191410195),\n",
    " (7.1344237045084675, 1.6373486764522571),\n",
    " (2.4211573415830188, 2.810112760589519),\n",
    " (7.6108111175276107, 4.181915055702122),\n",
    " (9.6538205198090434, 4.444382820070389),\n",
    " (8.1905132263562983, 3.0534156042900285),\n",
    " (7.4546566492388493, 5.388475797989607),\n",
    " (14.087818085722649, 4.961727257154151),\n",
    " (7.2780971375915371, 2.54178907740794),\n",
    " (13.49355600611988, 2.493864649506947),\n",
    " (7.1166182479555999, 3.0195450895358524),\n",
    " (13.861336288014931, 6.246482002469356),\n",
    " (9.9498449141955589, 1.5817110088866608),\n",
    " (12.090250168282912, 3.990269038499848),\n",
    " (14.0111497595614, 0.9108297343631235),\n",
    " (9.3928518482934216, 3.3950553805254793),\n",
    " (8.2709147406350212, 3.214121983305056),\n",
    " (8.386404092046515, 2.1119573572471135),\n",
    " (6.9673744914092852, 2.2083135342567983),\n",
    " (9.5162641851488523, 3.2184133097802943),\n",
    " (17.967580316152478, 3.965622119805391),\n",
    " (15.832368008468372, 0.828357131652206),\n",
    " (5.3317615928107358, 2.6644501925548774),\n",
    " (5.8971983697046877, 3.0341229253117494),\n",
    " (17.963906775041007, 6.0469989006758444),\n",
    " (5.6300726881847361, 2.4077579346402826),\n",
    " (11.348534324413565, 3.8699231013565725),\n",
    " (10.028167958705753, 1.9397974132848168),\n",
    " (14.062219131934697, 4.41603067403343),\n",
    " (9.10707255345568, 0.8011371320017451),\n",
    " (10.567716164156263, 4.450436137829604),\n",
    " (10.928830310193101, 4.839816330906595),\n",
    " (11.681478622619728, 0.8572196990559613),\n",
    " (11.538949263967641, 5.760338188965996),\n",
    " (10.978084516398958, 4.49756314191279),\n",
    " (12.818751132975834, 4.411544813273495),\n",
    " (6.7181748281785731, 5.484421751460473)]\n",
    "\n",
    "X = sum([x[1] for x in data])\n",
    "T = sum([x[0] for x in data])\n",
    "X2 = sum([x[1]**2 for x in data])\n",
    "T2 = sum([x[0]**2 for x in data])\n",
    "XT = sum([x[1]*x[0] for x in data])\n",
    "N = len(data)"
   ]
  },
  {
   "cell_type": "code",
   "execution_count": 2,
   "metadata": {
    "collapsed": false
   },
   "outputs": [
    {
     "data": {
      "image/png": "[encoded data removed]",
      "text/plain": [
       "<matplotlib.figure.Figure at 0x10b9ab2d0>"
      ]
     },
     "metadata": {},
     "output_type": "display_data"
    }
   ],
   "source": [
    "import numpy as np\n",
    "from matplotlib import pyplot as plt\n",
    "from scipy.special import gamma\n",
    "import emcee\n",
    "%matplotlib inline\n",
    "\n",
    "#(x,t)\n",
    "X = [x[0] for x in data]\n",
    "T = [x[1] for x in data]\n",
    "fig, ax = plt.subplots(1,1, figsize = (5,3))\n",
    "ax.scatter(T,X)\n",
    "ax.grid()"
   ]
  },
  {
   "cell_type": "code",
   "execution_count": 5,
   "metadata": {
    "collapsed": false
   },
   "outputs": [
    {
     "name": "stderr",
     "output_type": "stream",
     "text": [
      "/Users/danieldemoray/anaconda/lib/python2.7/site-packages/ipykernel/__main__.py:11: RuntimeWarning: overflow encountered in double_scalars\n",
      "/Users/danieldemoray/anaconda/lib/python2.7/site-packages/emcee/ensemble.py:335: RuntimeWarning: invalid value encountered in subtract\n",
      "  lnpdiff = (self.dim - 1.) * np.log(zz) + newlnprob - lnprob0\n",
      "/Users/danieldemoray/anaconda/lib/python2.7/site-packages/emcee/ensemble.py:336: RuntimeWarning: invalid value encountered in greater\n",
      "  accept = (lnpdiff > np.log(self._random.rand(len(lnpdiff))))\n"
     ]
    }
   ],
   "source": [
    "import numpy as np\n",
    "\n",
    "def lnprob(x):\n",
    "    if x[4] < 0:  #lambda must be positive.\n",
    "        return -np.infty\n",
    "    else:\n",
    "#         return \\\n",
    "#         -0.5*x[2]*np.sum([(e[1] - x[0] - x[1]*e[0])**2 for e in data]) + 0.5*N*np.log(x[2]) - \\\n",
    "#         0.5*(x[0]**2+ x[1]**2) - x[2] #prior, ^likelihood\n",
    "\n",
    "          return \\\n",
    "        -0.5*x[4]*np.sum([e[1] - x[0] + x[1]*(x[2]*np.sin(e[0])+x[3]*np.cos(e[0]))**2 for e in data]) + 0.5*N*np.log(x[4]) - 0.5*(x[0]**2+ x[1]**2) - x[4]\n",
    "        \n",
    "        \n",
    "#confirm if anything else needs to change here since we now have more parameters...does         \n",
    "nwalkers = 20\n",
    "ndim = 5\n",
    "p0 = np.random.rand(nwalkers*ndim).reshape((nwalkers,ndim))\n",
    "sampler = emcee.EnsembleSampler(nwalkers, ndim, lnprob)\n",
    "pos, prob, state = sampler.run_mcmc(p0, 1000)\n",
    "sampler.reset()\n",
    "pos, prob, state = sampler.run_mcmc(pos, 100000)\n",
    "samples = sampler.flatchain"
   ]
  },
  {
   "cell_type": "code",
   "execution_count": null,
   "metadata": {
    "collapsed": true
   },
   "outputs": [],
   "source": []
  },
  {
   "cell_type": "code",
   "execution_count": 5,
   "metadata": {
    "collapsed": false
   },
   "outputs": [
    {
     "ename": "NameError",
     "evalue": "name 'samples' is not defined",
     "output_type": "error",
     "traceback": [
      "\u001b[0;31m---------------------------------------------------------------------------\u001b[0m",
      "\u001b[0;31mNameError\u001b[0m                                 Traceback (most recent call last)",
      "\u001b[0;32m<ipython-input-5-cc6e1bb30feb>\u001b[0m in \u001b[0;36m<module>\u001b[0;34m()\u001b[0m\n\u001b[1;32m      3\u001b[0m     \u001b[0;32mreturn\u001b[0m \u001b[0;36m1\u001b[0m\u001b[0;34m/\u001b[0m\u001b[0mfloat\u001b[0m\u001b[0;34m(\u001b[0m\u001b[0mN\u001b[0m\u001b[0;34m)\u001b[0m\u001b[0;34m*\u001b[0m\u001b[0msum\u001b[0m\u001b[0;34m(\u001b[0m\u001b[0;34m[\u001b[0m\u001b[0mf\u001b[0m\u001b[0;34m(\u001b[0m\u001b[0me\u001b[0m\u001b[0;34m)\u001b[0m \u001b[0;32mfor\u001b[0m \u001b[0me\u001b[0m \u001b[0;32min\u001b[0m \u001b[0msamples\u001b[0m\u001b[0;34m]\u001b[0m\u001b[0;34m)\u001b[0m\u001b[0;34m\u001b[0m\u001b[0m\n\u001b[1;32m      4\u001b[0m \u001b[0;34m\u001b[0m\u001b[0m\n\u001b[0;32m----> 5\u001b[0;31m \u001b[0momega0\u001b[0m \u001b[0;34m=\u001b[0m \u001b[0mMonteCarlo\u001b[0m\u001b[0;34m(\u001b[0m\u001b[0;32mlambda\u001b[0m \u001b[0mx\u001b[0m\u001b[0;34m:\u001b[0m \u001b[0mx\u001b[0m\u001b[0;34m[\u001b[0m\u001b[0;36m0\u001b[0m\u001b[0;34m]\u001b[0m\u001b[0;34m,\u001b[0m \u001b[0msamples\u001b[0m\u001b[0;34m)\u001b[0m\u001b[0;34m\u001b[0m\u001b[0m\n\u001b[0m\u001b[1;32m      6\u001b[0m \u001b[0momega1\u001b[0m \u001b[0;34m=\u001b[0m \u001b[0mMonteCarlo\u001b[0m\u001b[0;34m(\u001b[0m\u001b[0;32mlambda\u001b[0m \u001b[0mx\u001b[0m\u001b[0;34m:\u001b[0m \u001b[0mx\u001b[0m\u001b[0;34m[\u001b[0m\u001b[0;36m1\u001b[0m\u001b[0;34m]\u001b[0m\u001b[0;34m,\u001b[0m \u001b[0msamples\u001b[0m\u001b[0;34m)\u001b[0m\u001b[0;34m\u001b[0m\u001b[0m\n\u001b[1;32m      7\u001b[0m \u001b[0momega2\u001b[0m \u001b[0;34m=\u001b[0m \u001b[0mMonteCarlo\u001b[0m\u001b[0;34m(\u001b[0m\u001b[0;32mlambda\u001b[0m \u001b[0mx\u001b[0m\u001b[0;34m:\u001b[0m \u001b[0mx\u001b[0m\u001b[0;34m[\u001b[0m\u001b[0;36m2\u001b[0m\u001b[0;34m]\u001b[0m\u001b[0;34m,\u001b[0m \u001b[0msamples\u001b[0m\u001b[0;34m)\u001b[0m\u001b[0;34m\u001b[0m\u001b[0m\n",
      "\u001b[0;31mNameError\u001b[0m: name 'samples' is not defined"
     ]
    }
   ],
   "source": [
    "\n",
    "def MonteCarlo(f, samples):\n",
    "    N = len(samples)\n",
    "    return 1/float(N)*sum([f(e) for e in samples])\n",
    "\n",
    "omega0 = MonteCarlo(lambda x: x[0], samples)\n",
    "omega1 = MonteCarlo(lambda x: x[1], samples)\n",
    "omega2 = MonteCarlo(lambda x: x[2], samples)\n",
    "omega3 = MonteCarlo(lambda x: x[3], samples)\n",
    "lam = MonteCarlo(lambda x: x[4], samples)\n",
    "print ('o0 = {0}, o1 = {1}, o2 = {2}, 03 = {3}, l = {4}'.format(omega0, omega1, omega2, omega3, lam))"
   ]
  },
  {
   "cell_type": "code",
   "execution_count": 3,
   "metadata": {
    "collapsed": false
   },
   "outputs": [
    {
     "ename": "NameError",
     "evalue": "name 'omega0' is not defined",
     "output_type": "error",
     "traceback": [
      "\u001b[0;31m---------------------------------------------------------------------------\u001b[0m",
      "\u001b[0;31mNameError\u001b[0m                                 Traceback (most recent call last)",
      "\u001b[0;32m<ipython-input-3-f40611f77cf9>\u001b[0m in \u001b[0;36m<module>\u001b[0;34m()\u001b[0m\n\u001b[1;32m      2\u001b[0m \u001b[0mXval\u001b[0m \u001b[0;34m=\u001b[0m \u001b[0mnp\u001b[0m\u001b[0;34m.\u001b[0m\u001b[0marange\u001b[0m\u001b[0;34m(\u001b[0m\u001b[0;36m0\u001b[0m\u001b[0;34m,\u001b[0m \u001b[0;36m8\u001b[0m\u001b[0;34m)\u001b[0m\u001b[0;34m\u001b[0m\u001b[0m\n\u001b[1;32m      3\u001b[0m \u001b[0;31m# Reg = [omega0 + omega1*np.sin(x) for x in Xval] first try\u001b[0m\u001b[0;34m\u001b[0m\u001b[0;34m\u001b[0m\u001b[0m\n\u001b[0;32m----> 4\u001b[0;31m \u001b[0mReg\u001b[0m \u001b[0;34m=\u001b[0m \u001b[0;34m[\u001b[0m\u001b[0momega0\u001b[0m \u001b[0;34m+\u001b[0m \u001b[0momega1\u001b[0m\u001b[0;34m*\u001b[0m\u001b[0;34m(\u001b[0m\u001b[0momega2\u001b[0m\u001b[0;34m*\u001b[0m\u001b[0mnp\u001b[0m\u001b[0;34m.\u001b[0m\u001b[0msin\u001b[0m\u001b[0;34m(\u001b[0m\u001b[0mx\u001b[0m\u001b[0;34m)\u001b[0m \u001b[0;34m+\u001b[0m \u001b[0momega3\u001b[0m\u001b[0;34m*\u001b[0m\u001b[0mnp\u001b[0m\u001b[0;34m.\u001b[0m\u001b[0mcos\u001b[0m\u001b[0;34m(\u001b[0m\u001b[0mx\u001b[0m\u001b[0;34m)\u001b[0m \u001b[0;32mfor\u001b[0m \u001b[0mx\u001b[0m \u001b[0;32min\u001b[0m \u001b[0mXval\u001b[0m\u001b[0;34m)\u001b[0m\u001b[0;34m]\u001b[0m\u001b[0;34m\u001b[0m\u001b[0m\n\u001b[0m\u001b[1;32m      5\u001b[0m \u001b[0mfig\u001b[0m\u001b[0;34m,\u001b[0m \u001b[0max\u001b[0m \u001b[0;34m=\u001b[0m \u001b[0mplt\u001b[0m\u001b[0;34m.\u001b[0m\u001b[0msubplots\u001b[0m\u001b[0;34m(\u001b[0m\u001b[0;36m1\u001b[0m\u001b[0;34m,\u001b[0m\u001b[0;36m1\u001b[0m\u001b[0;34m,\u001b[0m \u001b[0mfigsize\u001b[0m \u001b[0;34m=\u001b[0m \u001b[0;34m(\u001b[0m\u001b[0;36m5\u001b[0m\u001b[0;34m,\u001b[0m\u001b[0;36m3\u001b[0m\u001b[0;34m)\u001b[0m\u001b[0;34m)\u001b[0m\u001b[0;34m\u001b[0m\u001b[0m\n\u001b[1;32m      6\u001b[0m \u001b[0max\u001b[0m\u001b[0;34m.\u001b[0m\u001b[0mscatter\u001b[0m\u001b[0;34m(\u001b[0m\u001b[0mT\u001b[0m\u001b[0;34m,\u001b[0m\u001b[0mX\u001b[0m\u001b[0;34m)\u001b[0m\u001b[0;34m\u001b[0m\u001b[0m\n",
      "\u001b[0;31mNameError\u001b[0m: name 'omega0' is not defined"
     ]
    }
   ],
   "source": [
    "import numpy as np\n",
    "Xval = np.arange(0, 8)\n",
    "# Reg = [omega0 + omega1*np.sin(x) for x in Xval] first try\n",
    "Reg = [omega0 + omega1*(omega2*np.sin(x) + omega3*np.cos(x) for x in Xval)]\n",
    "fig, ax = plt.subplots(1,1, figsize = (5,3))\n",
    "ax.scatter(T,X)\n",
    "ax.plot(Xval, Reg, label ='Regression', color = 'red')\n",
    "ax.set_xlabel('t')\n",
    "ax.set_ylabel('$X_t$')\n",
    "ax.legend(loc = 'best', fontsize='small')\n",
    "ax.grid()"
   ]
  },
  {
   "cell_type": "code",
   "execution_count": null,
   "metadata": {
    "collapsed": true
   },
   "outputs": [],
   "source": [
    "\n",
    "\n",
    "import numpy as np\n",
    "Xval = np.arange(0, 8)\n",
    "# Reg = [omega0 + omega1*np.sin(x) for x in Xval] first try\n",
    "omega0 = \n",
    "omega1 = \n",
    "omega2 = \n",
    "omega3 =\n",
    "\n",
    "Reg = [omega0 + omega1*(omega2*np.sin(x) + omega3*np.cos(x) for x in Xval)]\n",
    "fig, ax = plt.subplots(1,1, figsize = (5,3))\n",
    "ax.scatter(T,X)\n",
    "ax.plot(Xval, Reg, label ='Regression', color = 'red')\n",
    "ax.set_xlabel('t')\n",
    "ax.set_ylabel('$X_t$')\n",
    "ax.legend(loc = 'best', fontsize='small')\n",
    "ax.grid()"
   ]
  },
  {
   "cell_type": "code",
   "execution_count": null,
   "metadata": {
    "collapsed": true
   },
   "outputs": [],
   "source": [
    "import pandas as pd\n",
    "data = pd.DataFrame(samples, columns =['Omega0', 'Omega1', 'Omega2', 'Omega3', 'Lambda'])\n",
    "data.plot(kind = 'density')"
   ]
  },
  {
   "cell_type": "code",
   "execution_count": 1,
   "metadata": {
    "collapsed": false
   },
   "outputs": [
    {
     "ename": "NameError",
     "evalue": "name 'samples' is not defined",
     "output_type": "error",
     "traceback": [
      "\u001b[0;31m---------------------------------------------------------------------------\u001b[0m",
      "\u001b[0;31mNameError\u001b[0m                                 Traceback (most recent call last)",
      "\u001b[0;32m<ipython-input-1-aae50dc5cbf6>\u001b[0m in \u001b[0;36m<module>\u001b[0;34m()\u001b[0m\n\u001b[1;32m      1\u001b[0m \u001b[0;32mimport\u001b[0m \u001b[0mcorner\u001b[0m\u001b[0;34m\u001b[0m\u001b[0m\n\u001b[0;32m----> 2\u001b[0;31m \u001b[0mfig\u001b[0m \u001b[0;34m=\u001b[0m \u001b[0mcorner\u001b[0m\u001b[0;34m.\u001b[0m\u001b[0mcorner\u001b[0m\u001b[0;34m(\u001b[0m\u001b[0msamples\u001b[0m\u001b[0;34m,\u001b[0m \u001b[0mlabels\u001b[0m\u001b[0;34m=\u001b[0m\u001b[0;34m[\u001b[0m\u001b[0;34m\"$\\omega_0$\"\u001b[0m\u001b[0;34m,\u001b[0m \u001b[0;34m\"$\\omega_1$\"\u001b[0m\u001b[0;34m,\u001b[0m \u001b[0;34m\"$\\lambda$\"\u001b[0m\u001b[0;34m]\u001b[0m\u001b[0;34m)\u001b[0m\u001b[0;34m\u001b[0m\u001b[0m\n\u001b[0m",
      "\u001b[0;31mNameError\u001b[0m: name 'samples' is not defined"
     ]
    }
   ],
   "source": [
    "import corner\n",
    "fig = corner.corner(samples, labels=[\"$\\omega_0$\", \"$\\omega_1$\", \"$\\omega_2$\", \"$\\omega_3$\", \"$\\lambda$\"])"
   ]
  },
  {
   "cell_type": "code",
   "execution_count": null,
   "metadata": {
    "collapsed": true
   },
   "outputs": [],
   "source": []
  }
 ],
 "metadata": {
  "anaconda-cloud": {},
  "kernelspec": {
   "display_name": "Python [default]",
   "language": "python",
   "name": "python2"
  },
  "language_info": {
   "codemirror_mode": {
    "name": "ipython",
    "version": 2
   },
   "file_extension": ".py",
   "mimetype": "text/x-python",
   "name": "python",
   "nbconvert_exporter": "python",
   "pygments_lexer": "ipython2",
   "version": "2.7.12"
  }
 },
 "nbformat": 4,
 "nbformat_minor": 1
}
