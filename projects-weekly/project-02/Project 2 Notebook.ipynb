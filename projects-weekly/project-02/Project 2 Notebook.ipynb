{
 "cells": [
  {
   "cell_type": "code",
   "execution_count": 70,
   "metadata": {
    "collapsed": true
   },
   "outputs": [],
   "source": [
    "# create class Online Store Manager (OSM)\n",
    "class OnlineStoreManager:\n",
    "    \n",
    "    def __init__(self, osm_name):   #instantiate object of class 'OSM'\n",
    "        self.osm_name = osm_name    #establish attributes of class\n",
    "        self.StoreCount = 0\n",
    "        self.storelist = []\n",
    "        self.customerlist = []\n",
    "        self.inventorylist = []\n",
    "        \n",
    "    def CreateOnlineStore(self, store_name):    #CreateOnlineStore Method\n",
    "        NewStore = Store(store_name)            #sets variable NewStore equal to Store Class\n",
    "        self.StoreCount = self.StoreCount + 1\n",
    "        self.storelist.append(store_name)    #Creates new Stores and adds both count and name\n",
    "        return NewStore                       #to above lists\n",
    "\n",
    "    def AddCustomer(self, customer_name):   #Create new Customer Method\n",
    "        NewCustomer = Customer(customer_name)  #sets variable NewCustomer equal to instance of Class Customer\n",
    "        self.customerlist.append(customer_name) #adds New Customer to above customer list\n",
    "        return NewCustomer               #note, above customer list spans all stores.\n",
    "    \n",
    "    def AddInventory(self, item):\n",
    "        NewItem = Inventory(item)\n",
    "        self.inventorylist.append(item)\n",
    "        return NewItem\n",
    "    \n",
    "class Store:                               #create class Store\n",
    "    def __init__(self, store_name):\n",
    "        self.store_name = store_name      #establish attributes\n",
    "\n",
    "class Customer:                           #create class Customer\n",
    "    def __init__(self, customer_name):\n",
    "        self.customer_name = customer_name   #establish attributes\n",
    "\n",
    "class Inventory:                          #create class Inventory\n",
    "    def __init__(self, item):\n",
    "        self.item = item                    #establish attributes"
   ]
  },
  {
   "cell_type": "code",
   "execution_count": 71,
   "metadata": {
    "collapsed": false
   },
   "outputs": [
    {
     "name": "stdout",
     "output_type": "stream",
     "text": [
      "osm1 store names : ['Apple - SOHO', 'Apple - 5th Avenue']\n",
      "osm1 number of stores : 2\n",
      "osm1 customer list : ['Phil']\n",
      "osm1 inventory list : ['iPhone']\n",
      "------------------------\n",
      "osm2 store names : ['Borders']\n",
      "osm2 number of stores : 1\n",
      "osm2 customer list : ['Joe']\n",
      "osm2 inventory list : ['Book', 'Magazine']\n",
      "------------------------\n",
      "osm3 store names : [\"Toby's Estate\"]\n",
      "osm3 number of stores : 1\n",
      "osm3 customer list : ['Sarah', 'Jessica']\n",
      "osm3 inventory list : ['Latte']\n"
     ]
    }
   ],
   "source": [
    "#instantiate first object of OnlineStoreManager\n",
    "osm1 = OnlineStoreManager('osm1')\n",
    "\n",
    "#instantiate two objects (two stores) using 'CreateOnlineStore' method\n",
    "osm1.CreateOnlineStore('Apple - SOHO')\n",
    "osm1.CreateOnlineStore('Apple - 5th Avenue')\n",
    "\n",
    "#add customer and inventory to OSM1\n",
    "osm1.AddCustomer('Phil')\n",
    "osm1.AddInventory('iPhone')\n",
    "\n",
    "#repeat above steps for two more objects of OnlineStoreManager to illustrate\n",
    "#how one could use the system to manage multiple stores.\n",
    "osm2 = OnlineStoreManager('osm2')\n",
    "osm2.CreateOnlineStore('Borders')\n",
    "osm2.AddCustomer('Joe')\n",
    "osm2.AddInventory('Book')\n",
    "osm2.AddInventory('Magazine')\n",
    "\n",
    "osm3 = OnlineStoreManager('osm3')\n",
    "osm3.CreateOnlineStore('Toby\\'s Estate')\n",
    "osm3.AddCustomer('Sarah')\n",
    "osm3.AddCustomer('Jessica')\n",
    "osm3.AddInventory('Latte')\n",
    "\n",
    "#printing OnlineStore Manager lists to confirm above code was executed successfully.\n",
    "print 'osm1 store names :', osm1.storelist #prints list of store names\n",
    "print 'osm1 number of stores :', osm1.StoreCount#prints count of stores\n",
    "print 'osm1 customer list :',osm1.customerlist\n",
    "print 'osm1 inventory list :', osm1.inventorylist\n",
    "print '------------------------'\n",
    "print 'osm2 store names :', osm2.storelist #prints list of store names\n",
    "print 'osm2 number of stores :', osm2.StoreCount#prints count of stores\n",
    "print 'osm2 customer list :',osm2.customerlist\n",
    "print 'osm2 inventory list :', osm2.inventorylist\n",
    "print '------------------------'\n",
    "print 'osm3 store names :', osm3.storelist #prints list of store names\n",
    "print 'osm3 number of stores :', osm3.StoreCount#prints count of stores\n",
    "print 'osm3 customer list :',osm3.customerlist\n",
    "print 'osm3 inventory list :', osm3.inventorylist\n",
    "\n"
   ]
  },
  {
   "cell_type": "code",
   "execution_count": null,
   "metadata": {
    "collapsed": true
   },
   "outputs": [],
   "source": []
  }
 ],
 "metadata": {
  "anaconda-cloud": {},
  "kernelspec": {
   "display_name": "Python [conda root]",
   "language": "python",
   "name": "conda-root-py"
  },
  "language_info": {
   "codemirror_mode": {
    "name": "ipython",
    "version": 2
   },
   "file_extension": ".py",
   "mimetype": "text/x-python",
   "name": "python",
   "nbconvert_exporter": "python",
   "pygments_lexer": "ipython2",
   "version": "2.7.12"
  }
 },
 "nbformat": 4,
 "nbformat_minor": 1
}
